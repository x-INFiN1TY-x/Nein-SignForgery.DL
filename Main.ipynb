{
 "cells": [
  {
   "cell_type": "markdown",
   "id": "2b561d23",
   "metadata": {
    "papermill": {
     "duration": 0.044355,
     "end_time": "2021-09-27T19:41:04.372995",
     "exception": false,
     "start_time": "2021-09-27T19:41:04.328640",
     "status": "completed"
    },
    "tags": []
   },
   "source": [
    "<h1> HANDWRITTEN SIGNATURE VERIFICATION \n",
    "USING \n",
    "CONVOLUTION NEURAL NETWORK (CNN) </h1>"
   ]
  },
  {
   "cell_type": "code",
   "execution_count": 1,
   "id": "a45ace44",
   "metadata": {
    "papermill": {
     "duration": 4.998808,
     "end_time": "2021-09-27T19:41:09.895934",
     "exception": false,
     "start_time": "2021-09-27T19:41:04.897126",
     "status": "completed"
    },
    "tags": []
   },
   "outputs": [],
   "source": [
    "import numpy as np\n",
    "import pandas as pd\n",
    "import matplotlib.pyplot as plt\n",
    "import os\n",
    "import cv2\n",
    "import glob\n",
    "from tensorflow.keras.utils import to_categorical\n",
    "from tensorflow.keras import applications\n",
    "from tensorflow import keras\n",
    "from tensorflow.keras import layers\n",
    "from tensorflow.keras import Sequential\n",
    "from tensorflow.keras.models import Sequential, Model, load_model\n",
    "from tensorflow.keras import applications\n",
    "from tensorflow.keras import optimizers\n",
    "from tensorflow.keras.layers import Dropout, Flatten, Dense\n",
    "from tensorflow.keras.optimizers import Adam\n",
    "from sklearn.utils import shuffle\n",
    "from sklearn.metrics import accuracy_score\n",
    "from tensorflow.keras.callbacks import ModelCheckpoint, LearningRateScheduler, EarlyStopping, ReduceLROnPlateau, TensorBoard\n",
    "from tensorflow.keras import backend as K\n",
    "import gc\n",
    "from tensorflow.keras.models import Model\n",
    "import pickle"
   ]
  },
  {
   "cell_type": "code",
   "execution_count": 2,
   "id": "5a8c9bee",
   "metadata": {
    "papermill": {
     "duration": 0.049167,
     "end_time": "2021-09-27T19:41:09.988365",
     "exception": false,
     "start_time": "2021-09-27T19:41:09.939198",
     "status": "completed"
    },
    "tags": []
   },
   "outputs": [],
   "source": [
    "train_dir = \"./sign_data/Dataset/train\"\n",
    "test_dir = \"./sign_data/Dataset/test\"\n"
   ]
  },
  {
   "cell_type": "code",
   "execution_count": 3,
   "id": "b47986d5",
   "metadata": {
    "papermill": {
     "duration": 0.053643,
     "end_time": "2021-09-27T19:41:11.098322",
     "exception": false,
     "start_time": "2021-09-27T19:41:11.044679",
     "status": "completed"
    },
    "tags": []
   },
   "outputs": [],
   "source": [
    "SIZE = 224"
   ]
  },
  {
   "cell_type": "code",
   "execution_count": 10,
   "id": "2212a6a2",
   "metadata": {
    "papermill": {
     "duration": 23.945968,
     "end_time": "2021-09-27T19:41:35.088817",
     "exception": false,
     "start_time": "2021-09-27T19:41:11.142849",
     "status": "completed"
    },
    "tags": []
   },
   "outputs": [
    {
     "name": "stdout",
     "output_type": "stream",
     "text": [
      "Training dataset:\n",
      "Number of samples: 1649\n",
      "Number of genuine signatures: 762\n",
      "Number of forged signatures: 887\n",
      "\n",
      "Test dataset:\n",
      "Number of samples: 500\n",
      "Number of genuine signatures: 248\n",
      "Number of forged signatures: 252\n"
     ]
    }
   ],
   "source": [
    "import os\n",
    "import glob\n",
    "import cv2\n",
    "import numpy as np\n",
    "\n",
    "# Initialize lists to store dataset information\n",
    "train_data_names = []\n",
    "test_data_names = []\n",
    "train_data = []\n",
    "train_labels = []\n",
    "test_data = []\n",
    "test_labels = []\n",
    "\n",
    "# Process training data\n",
    "for per in os.listdir('sign_data/Dataset/train'):\n",
    "    for data in glob.glob('sign_data/Dataset/train/'+per+'/*.*'):\n",
    "        # Append image paths to train_data_names\n",
    "        train_data_names.append(data)\n",
    "        # Read, resize, and preprocess image\n",
    "        img = cv2.imread(data)\n",
    "        img = cv2.cvtColor(img, cv2.COLOR_BGR2RGB)\n",
    "        img = cv2.resize(img, (SIZE,SIZE))\n",
    "        train_data.append([img])\n",
    "        # Determine and append label (1 for genuine, 0 for forged)\n",
    "        if per[-1]=='g':\n",
    "            train_labels.append(np.array(1))\n",
    "        else:\n",
    "            train_labels.append(np.array(0))\n",
    "\n",
    "# Convert training data to NumPy array and normalize pixel values\n",
    "train_data = np.array(train_data) / 255.0\n",
    "train_labels = np.array(train_labels)\n",
    "\n",
    "# Process test data\n",
    "for per in os.listdir('sign_data/Dataset/test'):\n",
    "    for data in glob.glob('sign_data/Dataset/test/'+per+'/*.*'):\n",
    "        # Append image paths to test_data_names\n",
    "        test_data_names.append(data)\n",
    "        # Read, resize, and preprocess image\n",
    "        img = cv2.imread(data)\n",
    "        img = cv2.cvtColor(img, cv2.COLOR_BGR2RGB)\n",
    "        img = cv2.resize(img, (SIZE,SIZE))\n",
    "        test_data.append([img])\n",
    "        # Determine and append label (1 for genuine, 0 for forged)\n",
    "        if per[-1]=='g':\n",
    "            test_labels.append(np.array(1))\n",
    "        else:\n",
    "            test_labels.append(np.array(0))\n",
    "\n",
    "# Convert test data to NumPy array and normalize pixel values\n",
    "test_data = np.array(test_data) / 255.0\n",
    "test_labels = np.array(test_labels)\n",
    "\n",
    "# Print dataset information\n",
    "print(\"Training dataset:\")\n",
    "print(\"Number of samples:\", len(train_data))\n",
    "print(\"Number of genuine signatures:\", np.sum(train_labels == 1))\n",
    "print(\"Number of forged signatures:\", np.sum(train_labels == 0))\n",
    "print()\n",
    "print(\"Test dataset:\")\n",
    "print(\"Number of samples:\", len(test_data))\n",
    "print(\"Number of genuine signatures:\", np.sum(test_labels == 1))\n",
    "print(\"Number of forged signatures:\", np.sum(test_labels == 0))\n"
   ]
  },
  {
   "cell_type": "code",
   "execution_count": 5,
   "id": "855f949b",
   "metadata": {
    "papermill": {
     "duration": 0.053002,
     "end_time": "2021-09-27T19:41:35.187598",
     "exception": false,
     "start_time": "2021-09-27T19:41:35.134596",
     "status": "completed"
    },
    "tags": []
   },
   "outputs": [],
   "source": [
    "import pickle\n",
    "\n",
    "# Save train_data_names\n",
    "with open('./train_data_names.pkl', 'wb') as fp:\n",
    "    pickle.dump(train_data_names, fp)\n",
    "\n",
    "# Save test_data_names\n",
    "with open('./test_data_names.pkl', 'wb') as fp:\n",
    "    pickle.dump(test_data_names, fp)\n"
   ]
  },
  {
   "cell_type": "code",
   "execution_count": 6,
   "id": "85ed80a7",
   "metadata": {
    "papermill": {
     "duration": 0.052786,
     "end_time": "2021-09-27T19:41:35.287377",
     "exception": false,
     "start_time": "2021-09-27T19:41:35.234591",
     "status": "completed"
    },
    "tags": []
   },
   "outputs": [],
   "source": [
    "# Categorical labels\n",
    "#print(train_labels)\n",
    "train_labels = to_categorical(train_labels)\n",
    "#print(train_data.shape)\n",
    "# Reshaping\n",
    "train_data = train_data.reshape(-1, SIZE,SIZE, 3)\n",
    "test_data = test_data.reshape(-1, SIZE,SIZE, 3)"
   ]
  },
  {
   "cell_type": "markdown",
   "id": "c3e2282e",
   "metadata": {
    "papermill": {
     "duration": 0.154868,
     "end_time": "2021-09-27T19:45:14.351265",
     "exception": false,
     "start_time": "2021-09-27T19:45:14.196397",
     "status": "completed"
    },
    "tags": []
   },
   "source": [
    "<h1> Inception_v3 - ADAM </h1>"
   ]
  },
  {
   "cell_type": "code",
   "execution_count": 9,
   "id": "3c22220e",
   "metadata": {
    "papermill": {
     "duration": 43.228021,
     "end_time": "2021-09-27T19:45:57.735619",
     "exception": false,
     "start_time": "2021-09-27T19:45:14.507598",
     "status": "completed"
    },
    "tags": []
   },
   "outputs": [
    {
     "name": "stdout",
     "output_type": "stream",
     "text": [
      "Model: \"sequential_2\"\n",
      "_________________________________________________________________\n",
      " Layer (type)                Output Shape              Param #   \n",
      "=================================================================\n",
      " inception_v3 (Functional)   (None, 5, 5, 2048)        21802784  \n",
      "                                                                 \n",
      " flatten_2 (Flatten)         (None, 51200)             0         \n",
      "                                                                 \n",
      " dense (Dense)               (None, 512)               26214912  \n",
      "                                                                 \n",
      " batch_normalization_282 (Ba  (None, 512)              2048      \n",
      " tchNormalization)                                               \n",
      "                                                                 \n",
      " dropout (Dropout)           (None, 512)               0         \n",
      "                                                                 \n",
      " dense_1 (Dense)             (None, 256)               131328    \n",
      "                                                                 \n",
      " batch_normalization_283 (Ba  (None, 256)              1024      \n",
      " tchNormalization)                                               \n",
      "                                                                 \n",
      " dropout_1 (Dropout)         (None, 256)               0         \n",
      "                                                                 \n",
      " dense_2 (Dense)             (None, 128)               32896     \n",
      "                                                                 \n",
      " batch_normalization_284 (Ba  (None, 128)              512       \n",
      " tchNormalization)                                               \n",
      "                                                                 \n",
      " dropout_2 (Dropout)         (None, 128)               0         \n",
      "                                                                 \n",
      " dense_3 (Dense)             (None, 2)                 258       \n",
      "                                                                 \n",
      "=================================================================\n",
      "Total params: 48,185,762\n",
      "Trainable params: 26,381,186\n",
      "Non-trainable params: 21,804,576\n",
      "_________________________________________________________________\n"
     ]
    },
    {
     "name": "stderr",
     "output_type": "stream",
     "text": [
      "C:\\Softwares\\envs\\py310\\lib\\site-packages\\keras\\optimizers\\optimizer_v2\\nadam.py:86: UserWarning: The `lr` argument is deprecated, use `learning_rate` instead.\n",
      "  super().__init__(name, **kwargs)\n"
     ]
    },
    {
     "name": "stdout",
     "output_type": "stream",
     "text": [
      "Epoch 1/40\n",
      "116/116 [==============================] - 32s 154ms/step - loss: 2.6457 - accuracy: 0.5910 - val_loss: 2.5212 - val_accuracy: 0.6424\n",
      "Epoch 2/40\n",
      "116/116 [==============================] - 13s 112ms/step - loss: 2.6358 - accuracy: 0.6326 - val_loss: 2.4701 - val_accuracy: 0.6828\n",
      "Epoch 3/40\n",
      "116/116 [==============================] - 14s 117ms/step - loss: 2.5633 - accuracy: 0.6378 - val_loss: 2.3555 - val_accuracy: 0.7293\n",
      "Epoch 4/40\n",
      "116/116 [==============================] - 13s 116ms/step - loss: 2.4254 - accuracy: 0.6915 - val_loss: 2.2310 - val_accuracy: 0.7818\n",
      "Epoch 5/40\n",
      "116/116 [==============================] - 14s 116ms/step - loss: 2.2873 - accuracy: 0.7123 - val_loss: 2.0527 - val_accuracy: 0.7919\n",
      "Epoch 6/40\n",
      "116/116 [==============================] - 14s 118ms/step - loss: 2.1559 - accuracy: 0.7192 - val_loss: 1.9471 - val_accuracy: 0.8020\n",
      "Epoch 7/40\n",
      "116/116 [==============================] - 14s 117ms/step - loss: 1.9695 - accuracy: 0.7522 - val_loss: 1.8024 - val_accuracy: 0.8101\n",
      "Epoch 8/40\n",
      "116/116 [==============================] - 14s 118ms/step - loss: 1.8258 - accuracy: 0.7487 - val_loss: 1.6593 - val_accuracy: 0.8202\n",
      "Epoch 9/40\n",
      "116/116 [==============================] - 14s 118ms/step - loss: 1.7213 - accuracy: 0.7747 - val_loss: 1.5996 - val_accuracy: 0.8343\n",
      "Epoch 10/40\n",
      "116/116 [==============================] - 14s 118ms/step - loss: 1.6971 - accuracy: 0.7695 - val_loss: 1.5588 - val_accuracy: 0.8283\n",
      "Epoch 11/40\n",
      "116/116 [==============================] - 14s 122ms/step - loss: 1.6465 - accuracy: 0.7556 - val_loss: 10.2416 - val_accuracy: 0.4929\n",
      "Epoch 12/40\n",
      "116/116 [==============================] - 14s 117ms/step - loss: 1.6266 - accuracy: 0.7548 - val_loss: 1.4790 - val_accuracy: 0.8121\n",
      "Epoch 13/40\n",
      "116/116 [==============================] - 13s 115ms/step - loss: 1.5486 - accuracy: 0.7695 - val_loss: 1.4456 - val_accuracy: 0.8283\n",
      "Epoch 14/40\n",
      "116/116 [==============================] - 13s 111ms/step - loss: 1.5476 - accuracy: 0.7747 - val_loss: 1.4987 - val_accuracy: 0.7636\n",
      "Epoch 15/40\n",
      "116/116 [==============================] - 13s 113ms/step - loss: 1.5148 - accuracy: 0.7730 - val_loss: 1.3516 - val_accuracy: 0.8384\n",
      "Epoch 16/40\n",
      "116/116 [==============================] - 13s 113ms/step - loss: 1.4367 - accuracy: 0.7738 - val_loss: 1.2861 - val_accuracy: 0.8283\n",
      "Epoch 17/40\n",
      "116/116 [==============================] - 13s 113ms/step - loss: 1.3891 - accuracy: 0.7643 - val_loss: 1.2966 - val_accuracy: 0.8364\n",
      "Epoch 18/40\n",
      "116/116 [==============================] - 13s 114ms/step - loss: 1.3990 - accuracy: 0.7886 - val_loss: 1.4446 - val_accuracy: 0.7636\n",
      "Epoch 19/40\n",
      "116/116 [==============================] - 13s 115ms/step - loss: 1.4645 - accuracy: 0.7634 - val_loss: 1.3539 - val_accuracy: 0.7919\n",
      "Epoch 20/40\n",
      "116/116 [==============================] - 13s 114ms/step - loss: 1.3847 - accuracy: 0.7894 - val_loss: 1.3193 - val_accuracy: 0.8141\n",
      "Epoch 21/40\n",
      "116/116 [==============================] - 13s 114ms/step - loss: 1.3785 - accuracy: 0.7842 - val_loss: 1.2491 - val_accuracy: 0.8323\n",
      "Epoch 22/40\n",
      "116/116 [==============================] - 13s 113ms/step - loss: 1.3988 - accuracy: 0.7348 - val_loss: 1.2365 - val_accuracy: 0.8141\n",
      "Epoch 23/40\n",
      "116/116 [==============================] - 13s 112ms/step - loss: 1.3344 - accuracy: 0.7556 - val_loss: 1.2568 - val_accuracy: 0.8202\n",
      "Epoch 24/40\n",
      "116/116 [==============================] - 13s 115ms/step - loss: 1.3406 - accuracy: 0.7686 - val_loss: 1.2581 - val_accuracy: 0.7919\n",
      "Epoch 25/40\n",
      "116/116 [==============================] - 13s 113ms/step - loss: 1.2978 - accuracy: 0.7643 - val_loss: 1.2185 - val_accuracy: 0.7919\n",
      "Epoch 26/40\n",
      "116/116 [==============================] - 14s 117ms/step - loss: 1.2698 - accuracy: 0.7721 - val_loss: 1.1648 - val_accuracy: 0.8404\n",
      "Epoch 27/40\n",
      "116/116 [==============================] - 13s 116ms/step - loss: 1.2271 - accuracy: 0.7686 - val_loss: 1.1903 - val_accuracy: 0.8242\n",
      "Epoch 28/40\n",
      "116/116 [==============================] - 14s 118ms/step - loss: 1.3223 - accuracy: 0.7626 - val_loss: 1.2908 - val_accuracy: 0.7980\n",
      "Epoch 29/40\n",
      "116/116 [==============================] - 13s 114ms/step - loss: 1.3166 - accuracy: 0.7574 - val_loss: 1.3324 - val_accuracy: 0.7859\n",
      "Epoch 30/40\n",
      "116/116 [==============================] - 14s 117ms/step - loss: 1.3562 - accuracy: 0.7522 - val_loss: 1.3260 - val_accuracy: 0.7677\n",
      "Epoch 31/40\n",
      "116/116 [==============================] - 14s 124ms/step - loss: 1.2949 - accuracy: 0.7418 - val_loss: 1.2786 - val_accuracy: 0.7677\n",
      "Epoch 32/40\n",
      "116/116 [==============================] - 15s 125ms/step - loss: 1.3072 - accuracy: 0.7842 - val_loss: 1.2853 - val_accuracy: 0.8121\n",
      "Epoch 33/40\n",
      "116/116 [==============================] - 15s 125ms/step - loss: 1.3597 - accuracy: 0.7634 - val_loss: 1.1947 - val_accuracy: 0.8242\n",
      "Epoch 34/40\n",
      "116/116 [==============================] - 54s 472ms/step - loss: 1.3222 - accuracy: 0.7496 - val_loss: 1.1725 - val_accuracy: 0.8465\n",
      "Epoch 35/40\n",
      "116/116 [==============================] - 36s 312ms/step - loss: 1.2892 - accuracy: 0.7496 - val_loss: 1.2749 - val_accuracy: 0.7576\n",
      "Epoch 36/40\n",
      "116/116 [==============================] - 14s 117ms/step - loss: 1.2783 - accuracy: 0.7591 - val_loss: 1.2335 - val_accuracy: 0.8061\n",
      "Epoch 37/40\n",
      "116/116 [==============================] - 14s 116ms/step - loss: 1.3296 - accuracy: 0.7522 - val_loss: 1.2419 - val_accuracy: 0.7677\n",
      "Epoch 38/40\n",
      "116/116 [==============================] - 14s 116ms/step - loss: 1.3167 - accuracy: 0.7539 - val_loss: 1.2584 - val_accuracy: 0.7596\n",
      "Epoch 39/40\n",
      "116/116 [==============================] - 14s 117ms/step - loss: 1.2968 - accuracy: 0.7470 - val_loss: 1.2954 - val_accuracy: 0.7616\n",
      "Epoch 40/40\n",
      "116/116 [==============================] - 14s 119ms/step - loss: 1.3535 - accuracy: 0.7522 - val_loss: 1.2565 - val_accuracy: 0.8061\n"
     ]
    },
    {
     "data": {
      "image/png": "[encoded data removed]",
      "text/plain": [
       "<Figure size 640x480 with 1 Axes>"
      ]
     },
     "metadata": {},
     "output_type": "display_data"
    },
    {
     "data": {
      "image/png": "[encoded data removed]",
      "text/plain": [
       "<Figure size 640x480 with 1 Axes>"
      ]
     },
     "metadata": {},
     "output_type": "display_data"
    },
    {
     "name": "stdout",
     "output_type": "stream",
     "text": [
      "37/37 [==============================] - 5s 109ms/step\n",
      "16/16 [==============================] - 3s 175ms/step\n"
     ]
    }
   ],
   "source": [
    "import os\n",
    "import cv2\n",
    "import numpy as np\n",
    "from tensorflow.keras import regularizers\n",
    "\n",
    "import matplotlib.pyplot as plt\n",
    "from sklearn.model_selection import train_test_split\n",
    "from tensorflow.keras import layers, models, optimizers, applications\n",
    "from tensorflow.keras.preprocessing.image import ImageDataGenerator\n",
    "from sklearn.preprocessing import StandardScaler\n",
    "from sklearn.decomposition import PCA\n",
    "from sklearn.ensemble import GradientBoostingClassifier, RandomForestClassifier\n",
    "from sklearn.metrics import accuracy_score\n",
    "\n",
    "# Define constants\n",
    "SIZE = 224\n",
    "INPUT_SHAPE = (SIZE, SIZE, 3)\n",
    "EPOCHS = 40\n",
    "BATCH_SIZE = 10\n",
    "NUM_CLASSES = 2\n",
    "\n",
    "# Load InceptionV3 base model\n",
    "base_model = applications.InceptionV3(weights='imagenet', include_top=False, input_shape=INPUT_SHAPE)\n",
    "\n",
    "# Freeze the layers in the base model\n",
    "base_model.trainable = False\n",
    "\n",
    "# Create the model\n",
    "model = models.Sequential()\n",
    "data_augmentation = ImageDataGenerator(rotation_range=20, width_shift_range=0.2, height_shift_range=0.2, shear_range=0.2, zoom_range=0.2, horizontal_flip=True, fill_mode='nearest')\n",
    "\n",
    "model.add(base_model)\n",
    "model.add(layers.Flatten())\n",
    "model.add(layers.Dense(512, activation='relu', kernel_regularizer=regularizers.l2(0.001)))\n",
    "model.add(layers.BatchNormalization())\n",
    "model.add(layers.Dropout(0.5))\n",
    "model.add(layers.Dense(256, activation='relu', kernel_regularizer=regularizers.l2(0.001)))\n",
    "model.add(layers.BatchNormalization())\n",
    "model.add(layers.Dropout(0.5))\n",
    "model.add(layers.Dense(128, activation='relu', kernel_regularizer=regularizers.l2(0.001)))\n",
    "model.add(layers.BatchNormalization())\n",
    "model.add(layers.Dropout(0.5))\n",
    "model.add(layers.Dense(NUM_CLASSES, activation='softmax'))\n",
    "\n",
    "# Compile the model\n",
    "optimizer = optimizers.Nadam(lr=0.001)\n",
    "model.compile(loss='categorical_crossentropy', optimizer=optimizer, metrics=['accuracy'])\n",
    "\n",
    "# Display model summary\n",
    "model.summary()\n",
    "\n",
    "# Split the data into training and validation sets\n",
    "train_data, val_data, train_labels, val_labels = train_test_split(train_data, train_labels, test_size=0.3, random_state=42)\n",
    "\n",
    "# Train the model with data augmentation\n",
    "history = model.fit(data_augmentation.flow(train_data, train_labels, batch_size=BATCH_SIZE), epochs=EPOCHS, validation_data=(val_data, val_labels))\n",
    "\n",
    "# Plot training history\n",
    "def plot_training_history(history):\n",
    "    acc = history.history['accuracy']\n",
    "    val_acc = history.history['val_accuracy']\n",
    "    loss = history.history['loss']\n",
    "    val_loss = history.history['val_loss']\n",
    "    epochs = range(1, len(acc) + 1)\n",
    "\n",
    "    # Plot accuracy\n",
    "    plt.plot(epochs, acc, 'b', label='Training acc')\n",
    "    plt.plot(epochs, val_acc, 'r', label='Validation acc')\n",
    "    plt.title('Training and validation accuracy')\n",
    "    plt.legend()\n",
    "    plt.figure()\n",
    "\n",
    "    # Plot loss\n",
    "    plt.plot(epochs, loss, 'b', label='Training loss')\n",
    "    plt.plot(epochs, val_loss, 'r', label='Validation loss')\n",
    "    plt.title('Training and validation loss')\n",
    "    plt.legend()\n",
    "    plt.show()\n",
    "\n",
    "# Plot the training history\n",
    "plot_training_history(history)\n",
    "\n",
    "# Save intermediate layer outputs\n",
    "intermediate_layer_model = models.Model(inputs=model.input, outputs=model.layers[-2].output)\n",
    "intermediate_output_train = intermediate_layer_model.predict(train_data)\n",
    "intermediate_output_test = intermediate_layer_model.predict(test_data)\n",
    "\n",
    "np.save('./InceptionV3_Nadam_train', intermediate_output_train)\n",
    "np.save('./InceptionV3_Nadam_test', intermediate_output_test)\n"
   ]
  },
  {
   "cell_type": "code",
   "execution_count": null,
   "id": "40558331",
   "metadata": {},
   "outputs": [],
   "source": [
    "from sklearn.ensemble import RandomForestClassifier, GradientBoostingClassifier\n",
    "from sklearn.preprocessing import StandardScaler\n",
    "from sklearn.decomposition import PCA\n",
    "from sklearn.feature_selection import RFE\n",
    "from sklearn.metrics import accuracy_score\n",
    "\n",
    "# Load the extracted features\n",
    "train_features = np.load('./InceptionV3_Nadam_train.npy')\n",
    "test_features = np.load('./InceptionV3_Nadam_test.npy')\n",
    "\n"
   ]
  },
  {
   "cell_type": "code",
   "execution_count": null,
   "id": "d3f18755-61df-44cd-832f-72eb5e3445ef",
   "metadata": {},
   "outputs": [],
   "source": []
  },
  {
   "cell_type": "code",
   "execution_count": null,
   "id": "629d4c6b",
   "metadata": {},
   "outputs": [],
   "source": [
    "import numpy as np\n",
    "from sklearn.preprocessing import StandardScaler\n",
    "from sklearn.decomposition import PCA\n",
    "from sklearn.ensemble import GradientBoostingClassifier\n",
    "from sklearn.ensemble import RandomForestClassifier\n",
    "from sklearn.metrics import accuracy_score\n",
    "\n",
    "# Scale the features\n",
    "scaler = StandardScaler()\n",
    "train_features_scaled = scaler.fit_transform(train_features)\n",
    "test_features_scaled = scaler.transform(test_features)\n",
    "\n",
    "# Apply PCA for dimensionality reduction\n",
    "pca = PCA(n_components=100)  # Adjust the number of components as needed\n",
    "train_features_pca = pca.fit_transform(train_features_scaled)\n",
    "test_features_pca = pca.transform(test_features_scaled)\n",
    "\n",
    "# Convert train_labels to 1D array\n",
    "train_labels_1d = np.argmax(train_labels, axis=1)\n",
    "\n",
    "# Ensemble Method - Gradient Boosting\n",
    "gb_model = GradientBoostingClassifier(n_estimators=100, random_state=42)\n",
    "gb_model.fit(train_features_pca, train_labels_1d)  # Use the PCA-transformed features\n",
    "\n",
    "# Make predictions on the test set\n",
    "predictions = gb_model.predict(test_features_pca)  # Use the PCA-transformed features\n"
   ]
  },
  {
   "cell_type": "code",
   "execution_count": null,
   "id": "d749f114",
   "metadata": {},
   "outputs": [],
   "source": [
    "# Calculate accuracy\n",
    "accuracy = accuracy_score(test_labels, predictions)\n",
    "print(f\"Test accuracy: {accuracy}\")\n"
   ]
  },
  {
   "cell_type": "code",
   "execution_count": null,
   "id": "829f59e8-f52a-4fd3-801e-2221144e770e",
   "metadata": {},
   "outputs": [],
   "source": [
    "from sklearn.ensemble import RandomForestClassifier\n",
    "\n",
    "# Initialize the Random Forest classifier\n",
    "rf_model = RandomForestClassifier(n_estimators=100, random_state=42)\n",
    "\n",
    "# Train the Random Forest model\n",
    "rf_model.fit(train_features, train_labels_1d)\n",
    "\n",
    "# Make predictions on the test set\n",
    "predictions = rf_model.predict(test_features)\n"
   ]
  },
  {
   "cell_type": "code",
   "execution_count": null,
   "id": "d385e707-4719-40de-8297-4061663daf1c",
   "metadata": {},
   "outputs": [],
   "source": [
    "# Calculate accuracy\n",
    "accuracy = accuracy_score(test_labels, predictions)\n",
    "print(f\"Test accuracy: {accuracy}\")\n"
   ]
  },
  {
   "cell_type": "code",
   "execution_count": null,
   "id": "44c1fa71-2e96-436e-9aa3-a811a6f0b641",
   "metadata": {},
   "outputs": [],
   "source": []
  }
 ],
 "metadata": {
  "kernelspec": {
   "display_name": "Python 3 (ipykernel)",
   "language": "python",
   "name": "python3"
  },
  "language_info": {
   "codemirror_mode": {
    "name": "ipython",
    "version": 3
   },
   "file_extension": ".py",
   "mimetype": "text/x-python",
   "name": "python",
   "nbconvert_exporter": "python",
   "pygments_lexer": "ipython3",
   "version": "3.10.14"
  },
  "papermill": {
   "default_parameters": {},
   "duration": 998.253789,
   "end_time": "2021-09-27T19:57:36.009288",
   "environment_variables": {},
   "exception": null,
   "input_path": "__notebook__.ipynb",
   "output_path": "__notebook__.ipynb",
   "parameters": {},
   "start_time": "2021-09-27T19:40:57.755499",
   "version": "2.3.3"
  }
 },
 "nbformat": 4,
 "nbformat_minor": 5
}
